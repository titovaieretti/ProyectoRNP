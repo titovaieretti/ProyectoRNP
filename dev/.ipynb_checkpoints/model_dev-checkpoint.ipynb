{
 "cells": [
  {
   "cell_type": "markdown",
   "id": "25c54cc1",
   "metadata": {},
   "source": [
    "# Preparación del Dataset - Detección de Melanomas\n",
    "Este notebook documenta la preparación del dataset HAM10000 para entrenamiento de una red neuronal convolucional en PyTorch.\n",
    "Incluye carga, preprocesamiento, normalización y creación de DataLoaders."
   ]
  },
  {
   "cell_type": "code",
   "execution_count": null,
   "id": "e981199d",
   "metadata": {},
   "outputs": [],
   "source": [
    "# Librerías necesarias\n",
    "import os\n",
    "import pandas as pd\n",
    "from glob import glob\n",
    "from PIL import Image\n",
    "from sklearn.model_selection import train_test_split\n",
    "from torchvision import transforms\n",
    "from torch.utils.data import Dataset, DataLoader"
   ]
  },
  {
   "cell_type": "markdown",
   "id": "d59aee1a",
   "metadata": {},
   "source": [
    "## Configuración de paths y etiquetas"
   ]
  },
  {
   "cell_type": "code",
   "execution_count": null,
   "id": "792ce7aa",
   "metadata": {},
   "outputs": [],
   "source": [
    "# Directorio base con imágenes y metadata CSV\n",
    "data_dir = '../data/HAM10000_images'\n",
    "metadata_path = '../data/HAM10000_metadata.csv'\n",
    "\n",
    "# Códigos a clases descriptivas\n",
    "lesion_type_dict = {\n",
    "    'nv': 'Nevus melanocítico',\n",
    "    'mel': 'Melanoma',\n",
    "    'bkl': 'Lesiones benignas tipo queratosis',\n",
    "    'bcc': 'Carcinoma basocelular',\n",
    "    'akiec': 'Queratosis actínica o carcinoma intraepitelial',\n",
    "    'vasc': 'Lesiones vasculares',\n",
    "    'df': 'Dermatofibroma'\n",
    "}\n",
    "\n"
   ]
  },
  {
   "cell_type": "markdown",
   "id": "8ffd5366",
   "metadata": {},
   "source": [
    "## Carga de metadata y creación de columnas auxiliares"
   ]
  },
  {
   "cell_type": "code",
   "execution_count": null,
   "id": "c31e9b56",
   "metadata": {},
   "outputs": [],
   "source": [
    "df = pd.read_csv(metadata_path)\n",
    "df['path'] = df['image_id'].apply(lambda x: os.path.join(data_dir, f\"{x}.jpg\"))\n",
    "df['cell_type'] = df['dx'].map(lesion_type_dict)\n",
    "df['label'] = pd.Categorical(df['cell_type']).codes\n",
    "df.head()"
   ]
  },
  {
   "cell_type": "markdown",
   "id": "81d35066",
   "metadata": {},
   "source": [
    "## División de datos en entrenamiento y validación"
   ]
  },
  {
   "cell_type": "code",
   "execution_count": null,
   "id": "adde76f2",
   "metadata": {},
   "outputs": [],
   "source": [
    "train_df, val_df = train_test_split(df, test_size=0.2, stratify=df['label'], random_state=42)\n",
    "train_df.to_csv('../data/training_data.csv', index=False)\n",
    "val_df.to_csv('../data/test_data.csv', index=False)\n",
    "print('Archivos CSV guardados.')"
   ]
  },
  {
   "cell_type": "markdown",
   "id": "be442736",
   "metadata": {},
   "source": [
    "## Transformaciones de imagen"
   ]
  },
  {
   "cell_type": "code",
   "execution_count": null,
   "id": "57fc4f30",
   "metadata": {},
   "outputs": [],
   "source": [
    "transform = transforms.Compose([\n",
    "    transforms.Resize((224, 224)),\n",
    "    transforms.ToTensor(),\n",
    "    transforms.Normalize([0.7630, 0.5456, 0.5700], [0.1409, 0.1523, 0.1692])\n",
    "])"
   ]
  },
  {
   "cell_type": "markdown",
   "id": "d761011d",
   "metadata": {},
   "source": [
    "## Clase personalizada SkinCancerDataset"
   ]
  },
  {
   "cell_type": "code",
   "execution_count": null,
   "id": "26c69980",
   "metadata": {},
   "outputs": [],
   "source": [
    "class SkinCancerDataset(Dataset):\n",
    "    def __init__(self, dataframe, transform=None):\n",
    "        self.dataframe = dataframe.reset_index(drop=True)\n",
    "        self.transform = transform\n",
    "\n",
    "    def __len__(self):\n",
    "        return len(self.dataframe)\n",
    "\n",
    "    def __getitem__(self, idx):\n",
    "        img_path = self.dataframe.loc[idx, 'path']\n",
    "        image = Image.open(img_path).convert('RGB')\n",
    "        label = self.dataframe.loc[idx, 'label']\n",
    "        if self.transform:\n",
    "            image = self.transform(image)\n",
    "        return image, label"
   ]
  },
  {
   "cell_type": "markdown",
   "id": "418076ac",
   "metadata": {},
   "source": [
    "## Creación de Datasets y DataLoaders"
   ]
  },
  {
   "cell_type": "code",
   "execution_count": null,
   "id": "e52d446d",
   "metadata": {},
   "outputs": [],
   "source": [
    "# Crear datasets y loaders\n",
    "train_dataset = SkinCancerDataset(train_df, transform=transform)\n",
    "val_dataset = SkinCancerDataset(val_df, transform=transform)\n",
    "\n",
    "train_loader = DataLoader(train_dataset, batch_size=32, shuffle=True)\n",
    "val_loader = DataLoader(val_dataset, batch_size=32)\n",
    "\n",
    "print(f'Tamaño de entrenamiento: {len(train_dataset)}')\n",
    "print(f'Tamaño de validación: {len(val_dataset)}')"
   ]
  }
 ],
 "metadata": {
  "language_info": {
   "name": "python"
  }
 },
 "nbformat": 4,
 "nbformat_minor": 5
}
